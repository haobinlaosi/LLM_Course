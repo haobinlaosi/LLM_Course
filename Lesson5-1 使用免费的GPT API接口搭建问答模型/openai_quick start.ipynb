{
 "cells": [
  {
   "cell_type": "markdown",
   "metadata": {},
   "source": [
    "\n",
    "# openai"
   ]
  },
  {
   "cell_type": "markdown",
   "metadata": {},
   "source": [
    "## OhmyGPT"
   ]
  },
  {
   "cell_type": "code",
   "execution_count": 1,
   "metadata": {},
   "outputs": [],
   "source": [
    "import os\n",
    "from openai import OpenAI\n",
    "import json\n",
    "\n",
    "\n",
    "# 从 JSON 文件中读取 API 密钥\n",
    "with open('config.json') as config_file:\n",
    "    config = json.load(config_file)\n"
   ]
  },
  {
   "cell_type": "code",
   "execution_count": 2,
   "metadata": {},
   "outputs": [
    {
     "data": {
      "text/plain": [
       "'sk-xxxxx'"
      ]
     },
     "execution_count": 2,
     "metadata": {},
     "output_type": "execute_result"
    }
   ],
   "source": [
    "apikey = config['API_KEY']\n",
    "apikey"
   ]
  },
  {
   "cell_type": "code",
   "execution_count": 4,
   "metadata": {},
   "outputs": [
    {
     "name": "stdout",
     "output_type": "stream",
     "text": [
      "ChatCompletionMessage(content='GPT是Generative Pre-trained Transformer的缩写，即预训练生成变压器模型。它是一种基于神经网络的自然语言处理模型，训练过程中使用了大量的文本数据，可以生成高效、自然的文本输出。GPT模型可以用于各种自然语言处理任务，如文本生成、文本分类、对话生成等。\\n\\nLLM是Large Language Models的缩写，即大型语言模型。LLM包括各种规模较大的自然语言处理模型，如GPT-3、BERT等。这些模型在训练时使用了大量的文本数据，具有强大的生成和理解能力，在各种自然语言处理任务中取得了良好的性能。LLM在自然语言处理领域得到了广泛的应用，并在推动该领域的发展中发挥重要作用。', refusal=None, role='assistant', function_call=None, tool_calls=None)\n"
     ]
    }
   ],
   "source": [
    "import os\n",
    "from openai import OpenAI\n",
    "import json\n",
    "\n",
    "\n",
    "# 从 JSON 文件中读取 API 密钥\n",
    "with open('config.json') as config_file:\n",
    "    config = json.load(config_file)\n",
    "\n",
    "apikey = config['API_KEY']\n",
    "\n",
    "client = OpenAI(    api_key=apikey ,    base_url=\"https://api.ohmygpt.com/v1\")#如果是openai的key，不需要base_url\n",
    "\n",
    "chat_completion = client.chat.completions.create(\n",
    "    messages=[\n",
    "        {\n",
    "            \"role\": \"user\",\n",
    "            \"content\": \"什么是GPT？什么是LLM\",\n",
    "        }\n",
    "    ],\n",
    "    model=\"gpt-3.5-turbo\",\n",
    ")\n",
    "print(chat_completion .choices[0].message)\n",
    "\n"
   ]
  },
  {
   "cell_type": "markdown",
   "metadata": {},
   "source": [
    "## dmxapi"
   ]
  },
  {
   "cell_type": "code",
   "execution_count": 9,
   "metadata": {},
   "outputs": [
    {
     "name": "stdout",
     "output_type": "stream",
     "text": [
      "{\"id\":\"chatcmpl-Lz4BjBKefB4qaVf2oVg3XO5P3TE5U\",\"model\":\"claude-3-5-haiku-20241022\",\"object\":\"chat.completion\",\"created\":1731565511,\"choices\":[{\"index\":0,\"message\":{\"role\":\"assistant\",\"content\":\"是的，暨南大学伯明翰学院是一所位于中国广东省广州市的高等教育机构，成立于2005年。它是暨南大学与英国伯明翰大学合作办学的结果。该学院提供多种本科和研究生课程，以英式教育体系为基础，致力于培养具有国际视野的人才。\\n\\n如果你有关于该学院的具体问题，如专业设置、申请流程等，欢迎提问！\"},\"finish_reason\":\"stop\"}],\"usage\":{\"prompt_tokens\":25,\"completion_tokens\":100,\"total_tokens\":125}}\n"
     ]
    }
   ],
   "source": [
    "# 这是一个 DMXAPI 调用 API 的 Python 例子\n",
    "import requests\n",
    "import json\n",
    "\n",
    "# 从 JSON 文件中读取 API 密钥\n",
    "with open('config_dmxapi.json') as config_file:\n",
    "    config = json.load(config_file)\n",
    "\n",
    "apikey = config['API_KEY']\n",
    "\n",
    "\n",
    "# ------------------------------------------------------------------------------------\n",
    "#         3秒步接入 DMXAPI ：  修改 Key 和 Base url (https://www.dmxapi.com)\n",
    "# ------------------------------------------------------------------------------------\n",
    "url = \"https://www.dmxapi.com/v1/chat/completions\"   # 这里不要用 openai base url，需要改成DMXAPI的中转 https://www.dmxapi.com ，下面是已经改好的。\n",
    "\n",
    "payload = json.dumps({\n",
    "   \"model\": \"claude-3-5-haiku-20241022\",  # 这里是你需要访问的模型，改成上面你需要测试的模型名称就可以了。\n",
    "   \"messages\": [\n",
    "      {\n",
    "         \"role\": \"system\",\n",
    "         \"content\": \"You are a helpful assistant.\"\n",
    "      },\n",
    "      {\n",
    "         \"role\": \"user\",\n",
    "         \"content\": \"你知道暨南大学伯明翰学院吗\"\n",
    "      }\n",
    "   ]\n",
    "})\n",
    "headers = {\n",
    "   'Accept': 'application/json',\n",
    "   'Authorization': apikey , # 这里放你的 DMXapi key\n",
    "   'User-Agent': 'DMXAPI/1.0.0 (https://www.dmxapi.com)',  # 这里也改成 DMXAPI 的中转URL https://www.dmxapi.com，已经改好\n",
    "   'Content-Type': 'application/json'\n",
    "}\n",
    "\n",
    "response = requests.request(\"POST\", url, headers=headers, data=payload)\n",
    "print(response.text)"
   ]
  },
  {
   "cell_type": "code",
   "execution_count": null,
   "metadata": {},
   "outputs": [],
   "source": []
  },
  {
   "cell_type": "code",
   "execution_count": null,
   "metadata": {},
   "outputs": [],
   "source": []
  }
 ],
 "metadata": {
  "kernelspec": {
   "display_name": "llm_course",
   "language": "python",
   "name": "python3"
  },
  "language_info": {
   "codemirror_mode": {
    "name": "ipython",
    "version": 3
   },
   "file_extension": ".py",
   "mimetype": "text/x-python",
   "name": "python",
   "nbconvert_exporter": "python",
   "pygments_lexer": "ipython3",
   "version": "3.10.14"
  }
 },
 "nbformat": 4,
 "nbformat_minor": 2
}
